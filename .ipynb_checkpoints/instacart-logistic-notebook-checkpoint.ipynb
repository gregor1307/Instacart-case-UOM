{
 "cells": [
  {
   "cell_type": "markdown",
   "metadata": {
    "_uuid": "443133c6e567ca1e3bf8d14626e52a2b39dc5ee4"
   },
   "source": [
    "# Introduction\n",
    "This kernel has been created by the [Information Systems Lab](http://islab.uom.gr) to introduce students of the [University of Macedonia](http://www.uom.gr/index.php?tmima=2&categorymenu=2), Greece to Machine Learning & Data Science.\n",
    "\n",
    "## The Instacart competition\n",
    "Instacart is an American company that operates as a same-day grocery delivery service. Customers select groceries through a web application from various retailers and delivered by a personal shopper. Instacart's service is mainly provided through a smartphone app, available on iOS and Android platforms, apart from its website.\n",
    "\n",
    "In 2017 Instacart organised a Kaggle competition and provided to the community a sample dataset of over 3 million grocery orders from more than 200,000 Instacart users. The orders include 32 million basket items and 50,000 unique products. The objective of the competition was participants to **predict which previously purchased products will be in a user’s next order**.\n",
    "\n",
    "## Objective\n",
    "The objective of this Kernel is to introduce students to predictive business analytics with Python through the Instacart case. \n",
    "\n",
    "By the time you finish this example, you will be able to:\n",
    "* Describe the steps of creating a predictive analytics model\n",
    "* Use Python and Pandas package to manipulate data\n",
    "* Use Python and Pandas package to create, combine, and delete DataFrames\n",
    "* Use Logistic Regression to create a predictive model\n",
    "* Apply the predictive model in order to make a prediction\n",
    "* Create a submission file for the competition of Instacart\n",
    "\n",
    "## Problem definition\n",
    "The data that Instacart opened up include orders of 200,000 Instacart users with each user having between 4 and 100 orders. Instacart indicates each order in the data as prior, train or test. Prior orders describe the **past behaviour** of a user while train and test orders regard the **future behaviour that we need to predict**. \n",
    "\n",
    "As a result, we want to predict which previously purchased products (prior orders) will be in a user’s next order (train and test orders). \n",
    "\n",
    "For the train orders Instacart reveals the results (i.e., the ordered products) while for the test orders we do not have this piece of information. Moreover, the future order of each user can be either train or test meaning that each user will be either a train or a test user. \n",
    "\n",
    "The setting of the Instacart problem is described in the figure below (orders with yellow color denotes future orders of a user). \n",
    "\n",
    "<img src=\"https://i.imgur.com/S0Miw3m.png\" width=\"350\">\n",
    "\n",
    "Each user has purchased various products during their prior orders. Moreover, for each user we know the order_id of their future order. The goal is to predict which of these products will be in a user's future order. \n",
    "\n",
    "This is a **classification problem** because we need to predict whether each pair of user and product is a reorder or not. This is indicated by the value of the reordered variable, i.e. reordered=1 or reordered=0 (see figure below). \n",
    "\n",
    "<img src=\"https://i.imgur.com/SxK2gsR.png\" width=\"350\">\n",
    "\n",
    "As a result we need to come up and calculate various **predictor variables (X)** that will describe the characteristics of a product and the behaviour of a user regarding one or multiple products. We will do so by analysing the prior orders of the dataset. We will then use the train users to create a predictive model and the test users to make our actual prediction. As a result we create a table as the following one and we train an algorithm based on predictor variables (X) and response variable (Y).\n",
    "\n",
    "<img src=\"https://i.imgur.com/Yb1CKAF.png\" width=\"600\">\n",
    "\n",
    "## Method\n",
    "Our method includes the following steps:\n",
    "1. <b>Import and reshape data</b>: This step includes loading CSV files into pandas DataFrames, tranform character variables to categorical variables, and create a supportive table.\n",
    "2. <b>Create predictor variables</b>: This step includes identifying and calculating predictor variables (aka features) from the initial datasets provided by Instacart. \n",
    "3. <b>Create train and test DataFrames</b>: In this step we create two distinct pandas DataFrames that will be used in the creation and the use of the predictive model.\n",
    "4. <b>Create predictive model (fit)</b>: In this step we employ Logistic Regression to create the predictive model through the train dataset.\n",
    "5. <b>Apply predictive model (predict)</b>: This step includes applying the model to predict the 'reordered' variable for the test dataset.\n",
    "6. <b>Create submission file</b>: In this final step we create the submission file with our predictions for Instacart's competition.\n",
    "7. <b>Get F1 score</b>: In this step we submit the produced and file and get the F1 score describing the accuracy of our prediction model."
   ]
  },
  {
   "cell_type": "markdown",
   "metadata": {
    "_cell_guid": "79c7e3d0-c299-4dcb-8224-4455121ee9b0",
    "_uuid": "d629ff2d2480ee46fbb7e2d37f6b5fab8052498a"
   },
   "source": [
    "# 1. Import and Reshape Data \n",
    "First we load the necessary Python packages and then we import the CSV files that were provided by Instacart.\n",
    "\n",
    "## 1.1 Import the required packages\n",
    "The garbage collector (package gc), attempts to reclaim garbage, or memory occupied by objects (e.g., DataFrames) that are no longer in use by Python ([ref1](https://www.techopedia.com/definition/1083/garbage-collection-gc-general-programming), [ref2](https://en.wikipedia.org/wiki/Garbage_collection_(computer_science)). This package will eliminate our risk to exceed the 16GB threshold of available RAM that Kaggle offers.\n",
    "\n",
    "The **\"as\"** reserved word is to define an alias to the package. The alias help us to call easier a package in our code."
   ]
  },
  {
   "cell_type": "code",
   "execution_count": 1,
   "metadata": {
    "_uuid": "ade7494679114eee3921819b364693735e49bc5f"
   },
   "outputs": [],
   "source": [
    "# For data manipulation\n",
    "import pandas as pd \n",
    "\n",
    "\n",
    "# Garbage Collector to free up memory\n",
    "import gc                         \n",
    "gc.enable()                       # Activate "
   ]
  },
  {
   "cell_type": "code",
   "execution_count": null,
   "metadata": {},
   "outputs": [],
   "source": [
    "from kaggle.api.kaggle_api_extended import KaggleApi\n",
    "api = KaggleApi({\"username\":\"gregorchatzi\",\"key\":\"bfea27556eac16f9a946432c3d70ea89\"})\n",
    "api.authenticate()\n",
    "files = api.competition_download_files('instacart-market-basket-analysis')"
   ]
  },
  {
   "cell_type": "code",
   "execution_count": null,
   "metadata": {},
   "outputs": [],
   "source": [
    "import zipfile\n",
    "with zipfile.ZipFile('instacart-market-basket-analysis.zip', 'r') as zip_ref:\n",
    "    zip_ref.extractall('./input')"
   ]
  },
  {
   "cell_type": "code",
   "execution_count": null,
   "metadata": {},
   "outputs": [],
   "source": [
    "import os\n",
    "working_directory = os.getcwd()+'/input'\n",
    "os.chdir(working_directory)\n",
    "for file in os.listdir(working_directory):   # get the list of files\n",
    "    if zipfile.is_zipfile(file): # if it is a zipfile, extract it\n",
    "        with zipfile.ZipFile(file) as item: # treat the file as a zip\n",
    "           item.extractall()  # extract it in the working directory"
   ]
  },
  {
   "cell_type": "markdown",
   "metadata": {
    "_uuid": "fb44963ea70a3c8e599e6a02332af8eb5ac2c462"
   },
   "source": [
    "## 1.2 Load data from the CSV files\n",
    "Instacart provides 6 CSV files, which we have to load into Python. Towards this end, we use the .read_csv() function, which is included in the Pandas package. Reading in data with the .read_csv( ) function returns a DataFrame."
   ]
  },
  {
   "cell_type": "code",
   "execution_count": null,
   "metadata": {
    "_uuid": "3fd1053c5df37c229f665db95a5de680ecb13490"
   },
   "outputs": [],
   "source": [
    "orders = pd.read_csv('../input/orders.csv')\n",
    "order_products_train = pd.read_csv('../input/order_products__train.csv')\n",
    "order_products_prior = pd.read_csv('../input/order_products__prior.csv')\n",
    "products = pd.read_csv('../input/products.csv')\n",
    "aisles = pd.read_csv('../input/aisles.csv')\n",
    "departments = pd.read_csv('../input/departments.csv')"
   ]
  },
  {
   "cell_type": "markdown",
   "metadata": {},
   "source": [
    "This step results in the following DataFrames:\n",
    "* <b>orders</b>: This table includes all orders, namely prior, train, and test. It has single primary key (<b>order_id</b>).\n",
    "* <b>order_products_train</b>: This table includes training orders. It has a composite primary key (<b>order_id and product_id</b>) and indicates whether a product in an order is a reorder or not (through the reordered variable).\n",
    "* <b>order_products_prior </b>: This table includes prior orders. It has a composite primary key (<b>order_id and product_id</b>) and indicates whether a product in an order is a reorder or not (through the reordered variable).\n",
    "* <b>products</b>: This table includes all products. It has a single primary key (<b>product_id</b>)\n",
    "* <b>aisles</b>: This table includes all aisles. It has a single primary key (<b>aisle_id</b>)\n",
    "* <b>departments</b>: This table includes all departments. It has a single primary key (<b>department_id</b>)"
   ]
  },
  {
   "cell_type": "markdown",
   "metadata": {},
   "source": [
    "If you want to reduce the execution time of this Kernel you can use the following piece of code by uncomment it. This will trim the orders DataFrame and will keep a 10% random sample of the users. You can use this for experimentation."
   ]
  },
  {
   "cell_type": "code",
   "execution_count": null,
   "metadata": {},
   "outputs": [],
   "source": [
    "\n",
    "#### Remove triple quotes to trim your dataset and experiment with your data\n",
    "# COMMANDS FOR CODING TESTING - Get 10% of users \n",
    "orders = orders.loc[orders.user_id.isin(orders.user_id.drop_duplicates().sample(frac=0.1, random_state=25))] \n"
   ]
  },
  {
   "cell_type": "markdown",
   "metadata": {},
   "source": [
    "We now use the .head( ) method in order to visualise the first 10 rows of these tables. Click the Output button below to see the tables."
   ]
  },
  {
   "cell_type": "code",
   "execution_count": null,
   "metadata": {
    "_kg_hide-output": true
   },
   "outputs": [],
   "source": [
    "orders.head()"
   ]
  },
  {
   "cell_type": "code",
   "execution_count": null,
   "metadata": {
    "_kg_hide-output": true
   },
   "outputs": [],
   "source": [
    "order_products_train.head()"
   ]
  },
  {
   "cell_type": "code",
   "execution_count": null,
   "metadata": {
    "_kg_hide-output": true
   },
   "outputs": [],
   "source": [
    "order_products_prior.head()"
   ]
  },
  {
   "cell_type": "code",
   "execution_count": null,
   "metadata": {
    "_kg_hide-output": true
   },
   "outputs": [],
   "source": [
    "products.head()"
   ]
  },
  {
   "cell_type": "code",
   "execution_count": null,
   "metadata": {
    "_kg_hide-output": true
   },
   "outputs": [],
   "source": [
    "aisles.head()"
   ]
  },
  {
   "cell_type": "code",
   "execution_count": null,
   "metadata": {
    "_kg_hide-output": true
   },
   "outputs": [],
   "source": [
    "departments.head()"
   ]
  },
  {
   "cell_type": "markdown",
   "metadata": {},
   "source": [
    "## 1.3 Reshape data\n",
    "We transform the data in order to facilitate their further analysis. First, we convert character variables into categories so we can use them in the creation of the model. In Python, a categorical variable is called category and has a fixed number of different values."
   ]
  },
  {
   "cell_type": "code",
   "execution_count": null,
   "metadata": {},
   "outputs": [],
   "source": [
    "# We convert character variables into category. \n",
    "# In Python, a categorical variable is called category and has a fixed number of different values\n",
    "aisles['aisle'] = aisles['aisle'].astype('category')\n",
    "departments['department'] = departments['department'].astype('category')\n",
    "orders['eval_set'] = orders['eval_set'].astype('category')\n",
    "products['product_name'] = products['product_name'].astype('category')"
   ]
  },
  {
   "cell_type": "markdown",
   "metadata": {},
   "source": [
    "## 1.4 Create a DataFrame with the orders and the products that have been purchased on prior orders (op)\n",
    "We create a new DataFrame, named <b>op</b> which combines (merges) the DataFrames <b>orders</b> and <b>order_products_prior</b>. Bear in mind that <b>order_products_prior</b> DataFrame includes only prior orders, so the new DataFrame <b>op</b>  will contain only these observations as well. Towards this end, we use pandas' merge function with how='inner' argument, which returns records that have matching values in both DataFrames. <img src=\"https://i.imgur.com/zEK7FpY.jpg\" width=\"400\">"
   ]
  },
  {
   "cell_type": "code",
   "execution_count": null,
   "metadata": {},
   "outputs": [],
   "source": [
    "#Merge the orders DF with order_products_prior by their order_id, keep only these rows with order_id that they are appear on both DFs\n",
    "op = orders.merge(order_products_prior, on='order_id', how='inner')\n",
    "op.head()\n"
   ]
  },
  {
   "cell_type": "markdown",
   "metadata": {},
   "source": [
    "The table contains for all the customers **(user_id)**: <br>\n",
    "&nbsp;&nbsp;&nbsp;&nbsp;&nbsp;&nbsp; ➡︎ the orders **(order_id)** that they have placed accompanied with: <br>\n",
    "&nbsp;&nbsp;&nbsp;&nbsp;&nbsp;&nbsp;&nbsp;&nbsp;&nbsp;&nbsp;&nbsp;&nbsp; ➡︎ the products **(product_id)** that have been bought in each order"
   ]
  },
  {
   "cell_type": "code",
   "execution_count": null,
   "metadata": {},
   "outputs": [],
   "source": [
    "op['order_number_back'] = op.groupby('user_id')['order_number'].transform(max) - op.order_number +1\n",
    "op.head(15)"
   ]
  },
  {
   "cell_type": "code",
   "execution_count": null,
   "metadata": {},
   "outputs": [],
   "source": [
    "op5 = op[op.order_number_back <= 5]\n",
    "op5.head()"
   ]
  },
  {
   "cell_type": "markdown",
   "metadata": {},
   "source": [
    "# 2. Create Predictor Variables\n",
    "We are now ready to identify and calculate predictor variables based on the provided data. We can create various types of predictors such as:\n",
    "* <b>User predictors</b> describing the behavior of a user e.g. total number of orders of a user.\n",
    "* <b>Product predictors</b> describing characteristics of a product e.g. total number of times a product has been purchased.\n",
    "* <b>User & product predictors</b> describing the behavior of a user towards a specific product e.g. total times a user ordered a specific product."
   ]
  },
  {
   "cell_type": "markdown",
   "metadata": {},
   "source": [
    "## 2.1 Create user predictors\n",
    "\n",
    "\n",
    "### 2.1.1 Number of orders per customer 📚📝\n",
    "We calculate the total number of placed orders per customer. We create a **user** DataFrame to store the results."
   ]
  },
  {
   "cell_type": "code",
   "execution_count": null,
   "metadata": {},
   "outputs": [],
   "source": [
    "user = op.groupby('user_id')['order_number'].max().to_frame('user_t_orders') #\n",
    "user = user.reset_index()\n",
    "user.head()"
   ]
  },
  {
   "cell_type": "code",
   "execution_count": null,
   "metadata": {},
   "outputs": [],
   "source": [
    "u_reorder = op.groupby('user_id')['reordered'].mean().to_frame('u_reordered_ratio') #\n",
    "u_reorder = u_reorder.reset_index()\n",
    "u_reorder.head()"
   ]
  },
  {
   "cell_type": "code",
   "execution_count": null,
   "metadata": {},
   "outputs": [],
   "source": [
    "u_reorder5 = op5.groupby('user_id')['reordered'].mean().to_frame('u_reordered_ratio_5') #\n",
    "u_reorder5 = u_reorder5.reset_index()\n",
    "u_reorder5.head()"
   ]
  },
  {
   "cell_type": "code",
   "execution_count": null,
   "metadata": {},
   "outputs": [],
   "source": [
    "user=user.merge(u_reorder,on='user_id',how='left')#\n",
    "del u_reorder\n",
    "gc.collect()\n",
    "\n",
    "user.head()"
   ]
  },
  {
   "cell_type": "code",
   "execution_count": null,
   "metadata": {},
   "outputs": [],
   "source": [
    "user=user.merge(u_reorder5,on='user_id',how='left')#\n",
    "del u_reorder5\n",
    "gc.collect()\n",
    "\n",
    "user.head()"
   ]
  },
  {
   "cell_type": "code",
   "execution_count": null,
   "metadata": {},
   "outputs": [],
   "source": [
    "days = op.groupby('user_id')['days_since_prior_order'].mean().to_frame('mean_days')\n",
    "days = days.reset_index()\n",
    "days.head()"
   ]
  },
  {
   "cell_type": "code",
   "execution_count": null,
   "metadata": {},
   "outputs": [],
   "source": [
    "days5 = op5.groupby('user_id')['days_since_prior_order'].mean().to_frame('mean_days_5')\n",
    "days5 = days5.reset_index()\n",
    "days5.head()"
   ]
  },
  {
   "cell_type": "code",
   "execution_count": null,
   "metadata": {},
   "outputs": [],
   "source": [
    "user = user.merge(days, on='user_id', how='left')\n",
    "del days\n",
    "gc.collect()\n",
    "user.head()"
   ]
  },
  {
   "cell_type": "code",
   "execution_count": null,
   "metadata": {},
   "outputs": [],
   "source": [
    "user = user.merge(days5, on='user_id', how='left')\n",
    "del days5\n",
    "gc.collect()\n",
    "user.head()"
   ]
  },
  {
   "cell_type": "code",
   "execution_count": null,
   "metadata": {},
   "outputs": [],
   "source": [
    "user_max = op.groupby(['user_id','order_id'])['add_to_cart_order'].max().to_frame('max_basket')\n",
    "user_max.head()"
   ]
  },
  {
   "cell_type": "code",
   "execution_count": null,
   "metadata": {},
   "outputs": [],
   "source": [
    "user_max_ratio = user_max.groupby('user_id')['max_basket'].mean().to_frame('mean_basket')\n",
    "user_max_ratio = user_max_ratio.reset_index()\n",
    "user_max_ratio.head()"
   ]
  },
  {
   "cell_type": "code",
   "execution_count": null,
   "metadata": {},
   "outputs": [],
   "source": [
    "user = user.merge(user_max_ratio, on='user_id', how='left')\n",
    "del user_max_ratio\n",
    "gc.collect()\n",
    "user.head()"
   ]
  },
  {
   "cell_type": "code",
   "execution_count": null,
   "metadata": {},
   "outputs": [],
   "source": [
    "user_max5 = op5.groupby(['user_id','order_id'])['add_to_cart_order'].max().to_frame('max_basket5')\n",
    "user_max5.head()"
   ]
  },
  {
   "cell_type": "code",
   "execution_count": null,
   "metadata": {},
   "outputs": [],
   "source": [
    "user_max_ratio5 = user_max5.groupby('user_id')['max_basket5'].mean().to_frame('mean_basket5')\n",
    "user_max_ratio5 = user_max_ratio5.reset_index()\n",
    "user_max_ratio5.head()"
   ]
  },
  {
   "cell_type": "code",
   "execution_count": null,
   "metadata": {},
   "outputs": [],
   "source": [
    "user = user.merge(user_max_ratio5, on='user_id', how='left')\n",
    "del user_max_ratio5\n",
    "gc.collect()\n",
    "user.head()"
   ]
  },
  {
   "cell_type": "code",
   "execution_count": null,
   "metadata": {},
   "outputs": [],
   "source": [
    "del  user_max, user_max5\n",
    "gc.collect()\n",
    "user.head()"
   ]
  },
  {
   "cell_type": "markdown",
   "metadata": {},
   "source": [
    "# **Products**"
   ]
  },
  {
   "cell_type": "code",
   "execution_count": null,
   "metadata": {},
   "outputs": [],
   "source": [
    "# Create distinct groups for each product, count the orders, save the result for each product to a new DataFrame  \n",
    "prd = op.groupby('product_id')['order_id'].count().to_frame('prd_t_purchases') #\n",
    "prd = prd.reset_index()\n",
    "prd.head()"
   ]
  },
  {
   "cell_type": "code",
   "execution_count": null,
   "metadata": {},
   "outputs": [],
   "source": [
    "# Reset the index of the DF so to bring product_id rom index to column (pre-requisite for step 2.4)\n",
    "prd5 = op5.groupby('product_id')['order_id'].count().to_frame('prd_t_purchases5') #\n",
    "prd5 = prd5.reset_index()\n",
    "prd5.head()"
   ]
  },
  {
   "cell_type": "code",
   "execution_count": null,
   "metadata": {},
   "outputs": [],
   "source": [
    "prd = prd.merge(prd5, on='product_id', how='left')\n",
    "\n",
    "#delete the reorder DataFrame\n",
    "del prd5\n",
    "gc.collect()\n",
    "\n",
    "prd.head()"
   ]
  },
  {
   "cell_type": "code",
   "execution_count": null,
   "metadata": {},
   "outputs": [],
   "source": [
    "#REMOVE PRODUCTS WITH LESS THAN 40 PURCHASES\n",
    "# execution time: 25 sec\n",
    "# the x on lambda function is a temporary variable which represents each group\n",
    "# shape[0] on a DataFrame returns the number of rows\n",
    "p_reorder = op.groupby('product_id').filter(lambda x: x.shape[0] >40)#####\n",
    "p_reorder.head()"
   ]
  },
  {
   "cell_type": "code",
   "execution_count": null,
   "metadata": {},
   "outputs": [],
   "source": [
    "p_reorder = op.groupby('product_id')['reordered'].mean().to_frame('p_reorder_ratio')\n",
    "p_reorder = p_reorder.reset_index()\n",
    "p_reorder.head()"
   ]
  },
  {
   "cell_type": "code",
   "execution_count": null,
   "metadata": {},
   "outputs": [],
   "source": [
    "#Merge the prd DataFrame with reorder\n",
    "prd = prd.merge(p_reorder, on='product_id', how='left')\n",
    "\n",
    "#delete the reorder DataFrame\n",
    "del p_reorder\n",
    "gc.collect()\n",
    "\n",
    "prd.head()"
   ]
  },
  {
   "cell_type": "code",
   "execution_count": null,
   "metadata": {},
   "outputs": [],
   "source": [
    "prd['p_reorder_ratio'] = prd['p_reorder_ratio'].fillna(0) #\n",
    "prd.head()"
   ]
  },
  {
   "cell_type": "code",
   "execution_count": null,
   "metadata": {},
   "outputs": [],
   "source": [
    "p_reorder5 = op5.groupby('product_id')['reordered'].mean().to_frame('p_reorder_ratio5')\n",
    "p_reorder5 = p_reorder5.reset_index()\n",
    "p_reorder5.head()"
   ]
  },
  {
   "cell_type": "code",
   "execution_count": null,
   "metadata": {},
   "outputs": [],
   "source": [
    "prd = prd.merge(p_reorder5, on='product_id', how='left')\n",
    "\n",
    "#delete the reorder DataFrame\n",
    "del p_reorder5\n",
    "gc.collect()\n",
    "prd['p_reorder_ratio5'] = prd['p_reorder_ratio5'].fillna(0)\n",
    "prd.head()"
   ]
  },
  {
   "cell_type": "code",
   "execution_count": null,
   "metadata": {},
   "outputs": [],
   "source": [
    "aop = op.groupby('product_id')['add_to_cart_order'].mean().to_frame(\"aop_mean\")\n",
    "aop = aop.reset_index()\n",
    "aop.head()"
   ]
  },
  {
   "cell_type": "code",
   "execution_count": null,
   "metadata": {},
   "outputs": [],
   "source": [
    "prd = prd.merge(aop, on='product_id', how='left')\n",
    "del aop\n",
    "gc.collect()\n",
    "prd.head()"
   ]
  },
  {
   "cell_type": "code",
   "execution_count": null,
   "metadata": {},
   "outputs": [],
   "source": [
    "aop5 = op5.groupby('product_id')['add_to_cart_order'].mean().to_frame(\"aop_mean5\")\n",
    "aop5 = aop5.reset_index()\n",
    "aop5.head()"
   ]
  },
  {
   "cell_type": "code",
   "execution_count": null,
   "metadata": {
    "scrolled": true
   },
   "outputs": [],
   "source": [
    "prd = prd.merge(aop5, on='product_id', how='left')\n",
    "del aop5\n",
    "gc.collect()\n",
    "prd.head()"
   ]
  },
  {
   "cell_type": "code",
   "execution_count": null,
   "metadata": {
    "scrolled": true
   },
   "outputs": [],
   "source": [
    "ap5=products.merge(op5,on='product_id',how='right')\n",
    "ap5=ap5.groupby(['user_id','aisle_id'])['order_id'].count().to_frame('times_aisle')\n",
    "ap5.head()"
   ]
  },
  {
   "cell_type": "code",
   "execution_count": null,
   "metadata": {},
   "outputs": [],
   "source": [
    "ap5_sum=ap5.groupby('user_id')['times_aisle'].sum().to_frame('t_times_aisle')\n",
    "ap5_sum.head()"
   ]
  },
  {
   "cell_type": "code",
   "execution_count": null,
   "metadata": {
    "scrolled": true
   },
   "outputs": [],
   "source": [
    "ap5=ap5.merge(ap5_sum,on='user_id',how='left')\n",
    "ap5.head()"
   ]
  },
  {
   "cell_type": "code",
   "execution_count": null,
   "metadata": {
    "scrolled": true
   },
   "outputs": [],
   "source": [
    "ap5['freq_aisle_per_costumer']=ap5.times_aisle/ap5.t_times_aisle\n",
    "ap5=ap5.drop(['times_aisle','t_times_aisle'],axis=1)\n",
    "ap5.head()"
   ]
  },
  {
   "cell_type": "code",
   "execution_count": null,
   "metadata": {
    "scrolled": true
   },
   "outputs": [],
   "source": [
    "dp5=products.merge(op5,on='product_id',how='right')\n",
    "dp5=dp5.groupby(['user_id','department_id'])['order_id'].count().to_frame('times_dep')\n",
    "dp5.head()"
   ]
  },
  {
   "cell_type": "code",
   "execution_count": null,
   "metadata": {},
   "outputs": [],
   "source": [
    "dp5_sum=dp5.groupby('user_id')['times_dep'].sum().to_frame('t_times_dep')\n",
    "dp5_sum.head()"
   ]
  },
  {
   "cell_type": "code",
   "execution_count": null,
   "metadata": {},
   "outputs": [],
   "source": [
    "dp5=dp5.merge(dp5_sum,on='user_id',how='left')\n",
    "dp5.head()"
   ]
  },
  {
   "cell_type": "code",
   "execution_count": null,
   "metadata": {},
   "outputs": [],
   "source": [
    "dp5['freq_dep_per_costumer']=dp5.times_dep/dp5.t_times_dep\n",
    "dp5=dp5.drop(['times_dep','t_times_dep'],axis=1)\n",
    "dp5.head()"
   ]
  },
  {
   "cell_type": "code",
   "execution_count": null,
   "metadata": {
    "scrolled": true
   },
   "outputs": [],
   "source": [
    "user=user.merge(ap5,on='user_id',how='left')\n",
    "user.head()"
   ]
  },
  {
   "cell_type": "code",
   "execution_count": null,
   "metadata": {},
   "outputs": [],
   "source": [
    "user=user.merge(dp5,on='user_id',how='left')\n",
    "user.head()"
   ]
  },
  {
   "cell_type": "code",
   "execution_count": null,
   "metadata": {},
   "outputs": [],
   "source": [
    "del ap5,ap5_sum,dp5,dp5_sum\n",
    "gc.collect()"
   ]
  },
  {
   "cell_type": "markdown",
   "metadata": {},
   "source": [
    "## 2.3 Create user-product predictors\n",
    "\n",
    "\n",
    "### 2.3.1 How many times a user bought a product 📚📝\n",
    "We create different groups that contain all the rows for each combination of user and product. Then with the aggregation function .count( ) we get how many times each user bought a product. We save the results on new **uxp** DataFrame."
   ]
  },
  {
   "cell_type": "code",
   "execution_count": null,
   "metadata": {},
   "outputs": [],
   "source": [
    "# Create distinct groups for each combination of user and product, count orders, save the result for each user X product to a new DataFrame \n",
    "uxp = op.groupby(['user_id', 'product_id'])['order_id'].count().to_frame('uxp_t_bought') #\n",
    "uxp = uxp.reset_index()\n",
    "uxp.head()"
   ]
  },
  {
   "cell_type": "code",
   "execution_count": null,
   "metadata": {},
   "outputs": [],
   "source": [
    "times = op.groupby(['user_id', 'product_id'])[['order_id']].count()\n",
    "times.columns = ['Times_Bought_N']\n",
    "times.head()"
   ]
  },
  {
   "cell_type": "code",
   "execution_count": null,
   "metadata": {},
   "outputs": [],
   "source": [
    "total_orders = op.groupby('user_id')['order_number'].max().to_frame('total_orders') #\n",
    "total_orders.head()"
   ]
  },
  {
   "cell_type": "code",
   "execution_count": null,
   "metadata": {},
   "outputs": [],
   "source": [
    "first_order_no = op.groupby(['user_id', 'product_id'])['order_number'].min().to_frame('first_order_number')\n",
    "first_order_no  = first_order_no.reset_index()\n",
    "first_order_no.head()"
   ]
  },
  {
   "cell_type": "code",
   "execution_count": null,
   "metadata": {},
   "outputs": [],
   "source": [
    "span = pd.merge(total_orders, first_order_no, on='user_id', how='right')\n",
    "span.head()"
   ]
  },
  {
   "cell_type": "code",
   "execution_count": null,
   "metadata": {},
   "outputs": [],
   "source": [
    "# The +1 includes in the difference the first order were the product has been purchased\n",
    "span['Order_Range_D'] = span.total_orders - span.first_order_number + 1\n",
    "span.head()"
   ]
  },
  {
   "cell_type": "code",
   "execution_count": null,
   "metadata": {},
   "outputs": [],
   "source": [
    "uxp_ratio = pd.merge(times, span, on=['user_id', 'product_id'], how='left')\n",
    "uxp_ratio.head()"
   ]
  },
  {
   "cell_type": "code",
   "execution_count": null,
   "metadata": {},
   "outputs": [],
   "source": [
    "#Remove temporary DataFrames\n",
    "del [times, first_order_no, span]"
   ]
  },
  {
   "cell_type": "code",
   "execution_count": null,
   "metadata": {},
   "outputs": [],
   "source": [
    "uxp_ratio['uxp_reorder_ratio'] = uxp_ratio.Times_Bought_N / uxp_ratio.Order_Range_D ##\n",
    "uxp_ratio.head()"
   ]
  },
  {
   "cell_type": "code",
   "execution_count": null,
   "metadata": {},
   "outputs": [],
   "source": [
    "uxp = uxp.merge(uxp_ratio, on=['user_id', 'product_id'], how='left')\n",
    "\n",
    "del uxp_ratio\n",
    "uxp.head()"
   ]
  },
  {
   "cell_type": "code",
   "execution_count": null,
   "metadata": {},
   "outputs": [],
   "source": [
    "uxp = uxp.drop(['total_orders', 'first_order_number', 'Order_Range_D', 'Times_Bought_N'], axis=1)\n",
    "uxp.head()"
   ]
  },
  {
   "cell_type": "code",
   "execution_count": null,
   "metadata": {},
   "outputs": [],
   "source": [
    "last_five = op5.groupby(['user_id','product_id'])['order_id'].count().to_frame('times_last5')\n",
    "last_five.head(10)"
   ]
  },
  {
   "cell_type": "code",
   "execution_count": null,
   "metadata": {},
   "outputs": [],
   "source": [
    "uxp = uxp.merge(last_five, on=['user_id', 'product_id'], how='left')\n",
    "uxp['times_last5'] = uxp['times_last5'].fillna(0)\n",
    "del last_five\n",
    "uxp.head()"
   ]
  },
  {
   "cell_type": "code",
   "execution_count": null,
   "metadata": {},
   "outputs": [],
   "source": [
    "del op\n",
    "gc.collect()"
   ]
  },
  {
   "cell_type": "markdown",
   "metadata": {},
   "source": [
    "## 2.4 Merge all features\n",
    "We now merge the DataFrames with the three types of predictors that we have created (i.e., for the users, the products and the combinations of users and products).\n",
    "\n",
    "We will start from the **uxp** DataFrame and we will add the user and prd DataFrames. We do so because we want our final DataFrame (which will be called **data**) to have the following structure: \n",
    "\n",
    "<img style=\"float: left;\" src=\"https://i.imgur.com/mI5BbFE.jpg\" >\n",
    "\n",
    "\n",
    "\n",
    "\n"
   ]
  },
  {
   "cell_type": "markdown",
   "metadata": {},
   "source": [
    "### 2.4.1 Merge uxp with user DataFrame\n",
    "Here we select to perform a left join of uxp with user DataFrame based on matching key \"user_id\"\n",
    "\n",
    "<img src=\"https://i.imgur.com/WlI84Ud.jpg\" width=\"400\">\n",
    "\n",
    "Left join, ensures that the new DataFrame will have:\n",
    "- all the observations of the uxp (combination of user and products) DataFrame \n",
    "- all the **matching** observations of user DataFrame with uxp based on matching key **\"user_id\"**\n",
    "\n",
    "The new DataFrame as we have already mentioned, will be called **data**."
   ]
  },
  {
   "cell_type": "code",
   "execution_count": null,
   "metadata": {},
   "outputs": [],
   "source": [
    "#Merge uxp features with the user features\n",
    "#Store the results on a new DataFrame\n",
    "data = uxp.merge(user, on='user_id', how='left')\n",
    "data.head()"
   ]
  },
  {
   "cell_type": "code",
   "execution_count": null,
   "metadata": {},
   "outputs": [],
   "source": [
    "del uxp, user\n",
    "gc.collect()"
   ]
  },
  {
   "cell_type": "markdown",
   "metadata": {},
   "source": [
    "### 2.4.1 Merge data with prd DataFrame 📚📝\n",
    "In this step we continue with our new DataFrame **data** and we perform a left join with prd DataFrame. The matching key here is the \"product_id\".\n",
    "<img src=\"https://i.imgur.com/Iak6nIz.jpg\" width=\"400\">\n",
    "\n",
    "Left join, ensures that the new DataFrame will have:\n",
    "- all the observations of the data (features of userXproducts and users) DataFrame \n",
    "- all the **matching** observations of prd DataFrame with data based on matching key **\"product_id\"**"
   ]
  },
  {
   "cell_type": "code",
   "execution_count": null,
   "metadata": {},
   "outputs": [],
   "source": [
    "#Merge uxp & user features (the new DataFrame) with prd features\n",
    "data = data.merge(prd, on='product_id', how='left') #\n",
    "data.head()"
   ]
  },
  {
   "cell_type": "code",
   "execution_count": null,
   "metadata": {},
   "outputs": [],
   "source": [
    "del prd\n",
    "gc.collect()"
   ]
  },
  {
   "cell_type": "markdown",
   "metadata": {},
   "source": [
    "### 2.4.2 Delete previous DataFrames"
   ]
  },
  {
   "cell_type": "markdown",
   "metadata": {},
   "source": [
    "The information from the DataFrames that we have created to store our features (op, user, prd, uxp) is now stored on **data**. \n",
    "\n",
    "As we won't use them anymore, we now delete them."
   ]
  },
  {
   "cell_type": "markdown",
   "metadata": {},
   "source": [
    "# 3. Create train and test DataFrames\n",
    "## 3.1 Include information about the last order of each user\n",
    "\n",
    "The **data** DataFrame that we have created on the previous chapter (2.4) should include two more columns which define the type of user (train or test) and the order_id of the future order.\n",
    "This information can be found on the initial orders DataFrame which was provided by Instacart: \n",
    "\n",
    "<img style=\"float: left;\" src=\"https://i.imgur.com/jbatzRY.jpg\" >\n",
    "\n",
    "\n",
    "Towards this end:\n",
    "1. We select the **orders** DataFrame to keep only the future orders (labeled as \"train\" & \"test). \n",
    "2. Keep only the columns of our desire ['eval_set', 'order_id'] <span style=\"color:red\">**AND** </span> 'user_id' as is the matching key with our **data** DataFrame\n",
    "2. Merge **data** DataFrame with the information for the future order of each customer using as matching key the 'user_id'"
   ]
  },
  {
   "cell_type": "markdown",
   "metadata": {},
   "source": [
    "To filter and select the columns of our desire on orders (the 2 first steps) there are numerous approaches:"
   ]
  },
  {
   "cell_type": "code",
   "execution_count": null,
   "metadata": {},
   "outputs": [],
   "source": [
    "## First approach:\n",
    "# In two steps keep only the future orders from all customers: train & test \n",
    "orders_future = orders[((orders.eval_set=='train') | (orders.eval_set=='test'))]\n",
    "orders_future = orders_future[ ['user_id', 'eval_set', 'order_id'] ]\n",
    "orders_future.head(10)\n",
    "\n",
    "## Second approach (if you want to test it you have to re-run the notebook):\n",
    "# In one step keep only the future orders from all customers: train & test \n",
    "#orders_future = orders.loc[((orders.eval_set=='train') | (orders.eval_set=='test')), ['user_id', 'eval_set', 'order_id'] ]\n",
    "#orders_future.head(10)\n",
    "\n",
    "## Third approach (if you want to test it you have to re-run the notebook):\n",
    "# In one step exclude all the prior orders so to deal with the future orders from all customers\n",
    "#orders_future = orders.loc[orders.eval_set!='prior', ['user_id', 'eval_set', 'order_id'] ]\n",
    "#orders_future.head(10)"
   ]
  },
  {
   "cell_type": "markdown",
   "metadata": {},
   "source": [
    "Now to fulfill step 3, we merge on **data** DataFrame the information for the last order of each customer. The matching key here is the user_id and we select a left join as we want to keep all the observations from **data** DataFrame.\n",
    "\n",
    "<img src=\"https://i.imgur.com/m3pNVDW.jpg\" width=\"400\">"
   ]
  },
  {
   "cell_type": "code",
   "execution_count": null,
   "metadata": {},
   "outputs": [],
   "source": [
    "# bring the info of the future orders to data DF\n",
    "data = data.merge(orders_future, on='user_id', how='left')\n",
    "data.head(10)"
   ]
  },
  {
   "cell_type": "markdown",
   "metadata": {},
   "source": [
    "## 3.2 Prepare the train DataFrame 📚📝\n",
    "In order to prepare the train Dataset, which will be used to create our prediction model, we need to include also the response (Y) and thus have the following structure:\n",
    "\n",
    "<img style=\"float: left;\" src=\"https://i.imgur.com/PDu2vfR.jpg\" >\n",
    "\n",
    "Towards this end:\n",
    "1. We keep only the customers who are labelled as \"train\" from the competition\n",
    "2. For these customers we get from order_products_train the products that they have bought, in order to create the response variable (reordered:1 or 0)\n",
    "3. We make all the required manipulations on that dataset and we remove the columns that are not predictors\n",
    "\n",
    "So now we filter the **data** DataFrame so to keep only the train users:"
   ]
  },
  {
   "cell_type": "code",
   "execution_count": null,
   "metadata": {},
   "outputs": [],
   "source": [
    "#Keep only the customers who we know what they bought in their future order\n",
    "data_train = data[data.eval_set=='train'] #\n",
    "data_train.head()"
   ]
  },
  {
   "cell_type": "markdown",
   "metadata": {},
   "source": [
    "For these customers we get from order_products_train the products that they have bought. The matching keys are here two: the \"product_id\" & \"order_id\". A left join keeps all the observations from data_train DataFrame\n",
    "\n",
    "<img src=\"https://i.imgur.com/kndys9d.jpg\" width=\"400\">"
   ]
  },
  {
   "cell_type": "code",
   "execution_count": null,
   "metadata": {},
   "outputs": [],
   "source": [
    "#Get from order_products_train all the products that the train users bought bought in their future order\n",
    "data_train = data_train.merge(order_products_train[['product_id','order_id', 'reordered']], on=['product_id','order_id'], how='left' )\n",
    "data_train.head(15)"
   ]
  },
  {
   "cell_type": "markdown",
   "metadata": {},
   "source": [
    "On the last columm (reordered) you can find out our response (y). \n",
    "There are combinations of User X Product which they were reordered (1) on last order where other were not (NaN value).\n",
    "\n",
    "Now we manipulate the data_train DataFrame, to bring it into a structure for Machine Learning (X1,X2,....,Xn, y):\n",
    "- Fill NaN values with value zero (regards reordered rows without value = 1)\n",
    "- Set as index the column(s) that describe uniquely each row (in our case \"user_id\" & \"product_id\")\n",
    "- Remove columns which are not predictors (in our case: 'eval_set','order_id')"
   ]
  },
  {
   "cell_type": "code",
   "execution_count": null,
   "metadata": {},
   "outputs": [],
   "source": [
    "#Where the previous merge, left a NaN value on reordered column means that the customers they haven't bought the product. We change the value on them to 0.\n",
    "data_train['reordered'] = data_train['reordered'].fillna(0)\n",
    "data_train.head(15)"
   ]
  },
  {
   "cell_type": "code",
   "execution_count": null,
   "metadata": {},
   "outputs": [],
   "source": [
    "#We set user_id and product_id as the index of the DF\n",
    "data_train = data_train.set_index(['user_id', 'product_id'])\n",
    "data_train.head(15)"
   ]
  },
  {
   "cell_type": "code",
   "execution_count": null,
   "metadata": {},
   "outputs": [],
   "source": [
    "#We remove all non-predictor variables\n",
    "data_train = data_train.drop(['eval_set', 'order_id'], axis=1)\n",
    "data_train.head(15)"
   ]
  },
  {
   "cell_type": "markdown",
   "metadata": {},
   "source": [
    "## 3.3 Prepare the test DataFrame 📚📝\n",
    "The test DataFrame must have the same structure as the train DataFrame, excluding the \"reordered\" column (as it is the label that we want to predict).\n",
    "<img style=\"float: left;\" src=\"https://i.imgur.com/lLJ7wpA.jpg\" >\n",
    "\n",
    " To achieve this we:\n",
    "- Keep only the customers who are labelled as test\n",
    "- Set as index the column(s) that uniquely describe each row (in our case \"user_id\" & \"product_id\")\n",
    "- Remove the columns that are predictors (in our case:'eval_set', 'order_id')"
   ]
  },
  {
   "cell_type": "code",
   "execution_count": null,
   "metadata": {},
   "outputs": [],
   "source": [
    "#Keep only the future orders from customers who are labelled as test\n",
    "data_test = data[data.eval_set=='test'] #\n",
    "data_test.head()"
   ]
  },
  {
   "cell_type": "code",
   "execution_count": null,
   "metadata": {},
   "outputs": [],
   "source": [
    "#We set user_id and product_id as the index of the DF\n",
    "data_test = data_test.set_index(['user_id', 'product_id']) #\n",
    "data_test.head()"
   ]
  },
  {
   "cell_type": "code",
   "execution_count": null,
   "metadata": {},
   "outputs": [],
   "source": [
    "#We remove all non-predictor variables\n",
    "data_test = data_test.drop(['eval_set','order_id'], axis=1)\n",
    "#Check if the data_test DF, has the same number of columns as the data_train DF, excluding the response variable\n",
    "data_test.head()"
   ]
  },
  {
   "cell_type": "markdown",
   "metadata": {},
   "source": [
    "# 4. Create predictive model (fit)\n",
    "The Machine Learning model that we are going to create is based on the Logistic Regression Algorithm.\n",
    "\n",
    "From Scikit-learn package we import the LogisticRegression estimator.\n",
    "\n",
    "To create the predictive model we:\n",
    "1. We create a DataFrame with all the predictors, named **X_train** and a Series with the response, named **y_train**\n",
    "2. We initiata a Logistic regression model with a specific random_state (so we can reproduce if we want to our model).\n",
    "3. Finally we train our model with the X_train and y_train data."
   ]
  },
  {
   "cell_type": "code",
   "execution_count": null,
   "metadata": {},
   "outputs": [],
   "source": [
    "# TRAIN FULL \n",
    "###########################\n",
    "## IMPORT REQUIRED PACKAGES\n",
    "###########################\n",
    "import xgboost as xgb\n",
    "\n",
    "##########################################\n",
    "## SPLIT DF TO: X_train, y_train (axis=1)\n",
    "##########################################\n",
    "X_train, y_train = data_train.drop('reordered', axis=1), data_train.reordered\n",
    "\n",
    "########################################\n",
    "## SET BOOSTER'S PARAMETERS\n",
    "########################################\n",
    "parameters = {'eval_metric':'logloss', \n",
    "              'max_depth': 5, \n",
    "              'colsample_bytree': 0.4,\n",
    "              'subsample': 0.75,\n",
    "             }\n",
    "\n",
    "########################################\n",
    "## INSTANTIATE XGBClassifier()\n",
    "########################################\n",
    "xgbc = xgb.XGBClassifier(objective='binary:logistic', parameters=parameters, num_boost_round=10)\n",
    "\n",
    "########################################\n",
    "## TRAIN MODEL\n",
    "########################################\n",
    "model = xgbc.fit(X_train, y_train)\n",
    "\n",
    "##################################\n",
    "# FEATURE IMPORTANCE - GRAPHICAL\n",
    "##################################\n",
    "xgb.plot_importance(model)\n"
   ]
  },
  {
   "cell_type": "code",
   "execution_count": null,
   "metadata": {},
   "outputs": [],
   "source": [
    "model.get_xgb_params()"
   ]
  },
  {
   "cell_type": "code",
   "execution_count": null,
   "metadata": {
    "scrolled": true
   },
   "outputs": [],
   "source": [
    "###########################\n",
    "## DISABLE WARNINGS\n",
    "###########################\n",
    "import sys\n",
    "import warnings\n",
    "\n",
    "if not sys.warnoptions:\n",
    "    warnings.simplefilter(\"ignore\")\n",
    "\n",
    "###########################\n",
    "## IMPORT REQUIRED PACKAGES\n",
    "###########################\n",
    "import xgboost as xgb\n",
    "from sklearn.model_selection import GridSearchCV\n",
    "\n",
    "####################################\n",
    "## SET BOOSTER'S RANGE OF PARAMETERS\n",
    "# IMPORTANT NOTICE: Fine-tuning an XGBoost model may be a computational prohibitive process with a regular computer or a Kaggle kernel. \n",
    "# Be cautious what parameters you enter in paramiGrid section.\n",
    "# More paremeters means that GridSearch will create and evaluate more models.\n",
    "####################################    \n",
    "paramGrid = {\"max_depth\":[5,10],\n",
    "            \"colsample_bytree\":[0.3,0.4,0.5],\n",
    "            \"n_estimators\":[50,100]}  \n",
    "\n",
    "########################################\n",
    "## INSTANTIATE XGBClassifier()\n",
    "########################################\n",
    "xgbc = xgb.XGBClassifier(objective='binary:logistic', eval_metric='logloss',num_boost_round=10,sampling_method='gradient_based', gpu_id=1, tree_method = 'gpu_hist')\n",
    "\n",
    "##############################################\n",
    "## DEFINE HOW TO TRAIN THE DIFFERENT MODELS\n",
    "#############################################\n",
    "gridsearch = GridSearchCV(xgbc, paramGrid, cv=3, verbose=2, n_jobs=1)\n",
    "\n",
    "################################################################\n",
    "## TRAIN THE MODELS\n",
    "### - with the combinations of different parameters\n",
    "### - here is where GridSearch will be exeucuted\n",
    "#################################################################\n",
    "model = gridsearch.fit(X_train, y_train)\n",
    "\n",
    "##################################\n",
    "## OUTPUT(S)\n",
    "##################################\n",
    "# Print the best parameters\n",
    "print(\"The best parameters are: /n\",  gridsearch.best_params_)\n",
    "\n",
    "# Store the model for prediction (chapter 5)\n",
    "model = gridsearch.best_estimator_"
   ]
  },
  {
   "cell_type": "code",
   "execution_count": null,
   "metadata": {},
   "outputs": [],
   "source": [
    "##################################\n",
    "# FEATURE IMPORTANCE - GRAPHICAL\n",
    "##################################\n",
    "xgb.plot_importance(model)"
   ]
  },
  {
   "cell_type": "code",
   "execution_count": null,
   "metadata": {},
   "outputs": [],
   "source": [
    "model.get_params()"
   ]
  },
  {
   "cell_type": "code",
   "execution_count": null,
   "metadata": {},
   "outputs": [],
   "source": [
    "del [orders_future,X_train,y_train]\n",
    "gc.collect()"
   ]
  },
  {
   "cell_type": "markdown",
   "metadata": {},
   "source": [
    "# 5. Apply predictive model (predict)\n",
    "The model that we have created is stored in the **model** object.\n",
    "At this step we predict the values for the test data and we store them in a new column in the same DataFrame."
   ]
  },
  {
   "cell_type": "code",
   "execution_count": null,
   "metadata": {},
   "outputs": [],
   "source": [
    "'''\n",
    "# Predict values for test data with our model from chapter 5 - the results are saved as a Python array\n",
    "test_pred = model.predict(data_test).astype(int)\n",
    "test_pred[0:20] #display the first 20 predictions of the numpy array\n",
    "'''"
   ]
  },
  {
   "cell_type": "code",
   "execution_count": null,
   "metadata": {},
   "outputs": [],
   "source": [
    "## OR set a custom threshold (in this problem, 0.21 yields the best prediction)\n",
    "test_pred = (model.predict_proba(data_test)[:,1] >= 0.21).astype(int)\n",
    "test_pred[0:20] #display the first 20 predictions of the numpy array"
   ]
  },
  {
   "cell_type": "code",
   "execution_count": null,
   "metadata": {},
   "outputs": [],
   "source": [
    "#Save the prediction in a new column in the data_test DF\n",
    "data_test['prediction'] = test_pred\n",
    "data_test.head()"
   ]
  },
  {
   "cell_type": "code",
   "execution_count": null,
   "metadata": {},
   "outputs": [],
   "source": [
    "#Reset the index\n",
    "final = data_test.reset_index()\n",
    "#Keep only the required columns to create our submission file (Chapter 6)\n",
    "final = final[['product_id', 'user_id', 'prediction']]\n",
    "\n",
    "gc.collect()\n",
    "final.head()"
   ]
  },
  {
   "cell_type": "markdown",
   "metadata": {},
   "source": [
    "# 6. Creation of Submission File\n",
    "To submit our prediction to Instacart competition we have to get for each user_id (test users) their last order_id. The final submission file should have the test order numbers and the products that we predict that are going to be bought.\n",
    "\n",
    "To create this file we retrieve from orders DataFrame all the test orders with their matching user_id:"
   ]
  },
  {
   "cell_type": "code",
   "execution_count": null,
   "metadata": {},
   "outputs": [],
   "source": [
    "orders_test = orders.loc[orders.eval_set=='test',(\"user_id\", \"order_id\") ]\n",
    "orders_test.head()"
   ]
  },
  {
   "cell_type": "markdown",
   "metadata": {},
   "source": [
    "We merge it with our predictions (from chapter 5) using a left join:\n",
    "<img src=\"https://i.imgur.com/KJubu0v.jpg\" width=\"400\">"
   ]
  },
  {
   "cell_type": "code",
   "execution_count": null,
   "metadata": {},
   "outputs": [],
   "source": [
    "final = final.merge(orders_test, on='user_id', how='left')\n",
    "final.head()"
   ]
  },
  {
   "cell_type": "markdown",
   "metadata": {},
   "source": [
    "And we move on with two final manipulations:\n",
    "- remove any undesired column (in our case user_id)\n",
    "- set product_id column as integer (mandatory action to proceed to the next step)"
   ]
  },
  {
   "cell_type": "code",
   "execution_count": null,
   "metadata": {},
   "outputs": [],
   "source": [
    "#remove user_id column\n",
    "final = final.drop('user_id', axis=1)\n",
    "#convert product_id as integer\n",
    "final['product_id'] = final.product_id.astype(int)\n",
    "\n",
    "#Remove all unnecessary objects\n",
    "del orders\n",
    "del orders_test\n",
    "gc.collect()\n",
    "\n",
    "final.head()"
   ]
  },
  {
   "cell_type": "markdown",
   "metadata": {},
   "source": [
    "In this step we initiate an empty dictionary. In this dictionary we will place as index the order_id and as values all the products that the order will have. If none product will be purchased, we have explicitly to place the string \"None\". All this syntax follows the requirements of the competition for the submission file."
   ]
  },
  {
   "cell_type": "code",
   "execution_count": null,
   "metadata": {
    "_kg_hide-output": true
   },
   "outputs": [],
   "source": [
    "d = dict()\n",
    "for row in final.itertuples():\n",
    "    if row.prediction== 1:\n",
    "        try:\n",
    "            d[row.order_id] += ' ' + str(row.product_id)\n",
    "        except:\n",
    "            d[row.order_id] = str(row.product_id)\n",
    "\n",
    "for order in final.order_id:\n",
    "    if order not in d:\n",
    "        d[order] = 'None'\n",
    "        \n",
    "gc.collect()\n",
    "\n",
    "#We now check how the dictionary were populated (open hidden output)\n",
    "d"
   ]
  },
  {
   "cell_type": "markdown",
   "metadata": {},
   "source": [
    "Now we convert the dictionary to a DataFrame and prepare it to extact it into a .csv file"
   ]
  },
  {
   "cell_type": "code",
   "execution_count": null,
   "metadata": {},
   "outputs": [],
   "source": [
    "#Convert the dictionary into a DataFrame\n",
    "sub = pd.DataFrame.from_dict(d, orient='index')\n",
    "\n",
    "#Reset index\n",
    "sub.reset_index(inplace=True)\n",
    "#Set column names\n",
    "sub.columns = ['order_id', 'products']\n",
    "\n",
    "sub.head()"
   ]
  },
  {
   "cell_type": "markdown",
   "metadata": {},
   "source": [
    "**The submission file should have 75.000 predictions to be submitted in the competition**"
   ]
  },
  {
   "cell_type": "code",
   "execution_count": null,
   "metadata": {},
   "outputs": [],
   "source": [
    "#Check if sub file has 75000 predictions\n",
    "sub.shape[0]"
   ]
  },
  {
   "cell_type": "markdown",
   "metadata": {},
   "source": [
    "The DataFrame can now be converted to .csv file. Pandas can export a DataFrame to a .csv file with the .to_csv( ) function."
   ]
  },
  {
   "cell_type": "code",
   "execution_count": null,
   "metadata": {},
   "outputs": [],
   "source": [
    "sub.to_csv('sub.csv', index=False)"
   ]
  },
  {
   "cell_type": "markdown",
   "metadata": {},
   "source": [
    "# 7. Get F1 Score"
   ]
  },
  {
   "cell_type": "markdown",
   "metadata": {},
   "source": [
    "Before you are ready to submit your prediction to the competion, **ensure that**:\n",
    "- **You have used all of the offered data and not the 10% that was defined as an optional step on section 1.2**\n",
    "\n",
    "To submit your prediction and get the F1 score you have to:\n",
    "1. Commit this notebook and wait for the results \n",
    "2. Go to view mode (where you see your notebook but you can't edit it)\n",
    "3. Click on the data section from your left panel\n",
    "4. Find the sub.csv (on outputs), below the section with the data from Instacart\n",
    "5. Click on \"Submit to competition\" button\n",
    "\n",
    "Regarding step 1:\n",
    ">This step might take long. If it exceeds 20-30 minutes it would be wise to check your code again. Kaggle won't inform you during commit if the notebook has:\n",
    "- syntax errors\n",
    "- if it exceeds 16 GB RAM\n",
    "- if it takes an algorirthms too much to train or predict\n",
    "\n",
    ">Any new commit:\n",
    "- can't take more than 9 hours\n",
    "- doesn't stop if it exceeds the 16 GB RAM - you will just receive an error of unsuccesful commit after 9 hours"
   ]
  },
  {
   "cell_type": "code",
   "execution_count": null,
   "metadata": {},
   "outputs": [],
   "source": []
  }
 ],
 "metadata": {
  "kernelspec": {
   "display_name": "Python 3",
   "language": "python",
   "name": "python3"
  },
  "language_info": {
   "codemirror_mode": {
    "name": "ipython",
    "version": 3
   },
   "file_extension": ".py",
   "mimetype": "text/x-python",
   "name": "python",
   "nbconvert_exporter": "python",
   "pygments_lexer": "ipython3",
   "version": "3.7.6"
  }
 },
 "nbformat": 4,
 "nbformat_minor": 4
}
